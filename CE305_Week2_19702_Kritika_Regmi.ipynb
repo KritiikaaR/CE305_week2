{
  "nbformat": 4,
  "nbformat_minor": 0,
  "metadata": {
    "colab": {
      "provenance": []
    },
    "kernelspec": {
      "name": "python3",
      "display_name": "Python 3"
    },
    "language_info": {
      "name": "python"
    }
  },
  "cells": [
    {
      "cell_type": "code",
      "source": [
        "#Week2_CE305_Question1_19702_Kritika_Regmi\n",
        "#Cyclic_Redundancy_Check\n",
        "\n",
        "def encoding(msg, poly):\n",
        "    msg_temp=msg\n",
        "    msg = msg + '0' * (len(poly) - 1)\n",
        "    remainder = list(msg)\n",
        "\n",
        "    for i in range(len(msg) - len(poly) + 1):\n",
        "        if remainder[i] == '1':\n",
        "            for j in range(len(poly)):\n",
        "                remainder[i + j] = str(int(remainder[i + j]) ^ int(poly[j]))\n",
        "\n",
        "    encoded_msg = ''.join(remainder)\n",
        "    return msg_temp + encoded_msg[-(len(poly) - 1):]\n",
        "\n",
        "def decoding(rcv, poly):\n",
        "    received_msg, received_remainder = rcv.split()\n",
        "    received_msg += received_remainder\n",
        "    received_msg = list(received_msg)\n",
        "\n",
        "    for i in range(len(received_msg) - len(poly) + 1):\n",
        "        if received_msg[i] == '1':\n",
        "            for j in range(len(poly)):\n",
        "                received_msg[i + j] = str(int(received_msg[i + j]) ^ int(poly[j]))\n",
        "\n",
        "    remainder = ''.join(received_msg)[-len(poly) + 1:]\n",
        "\n",
        "    if all(bit == '0' for bit in remainder):\n",
        "        return 'No error'\n",
        "    else:\n",
        "        return 'Error'\n",
        "\n",
        "# Test cases\n",
        "org_sig1 = '1010'\n",
        "poly = '100101'\n",
        "print(encoding(org_sig1, poly))\n",
        "received_sig1 = '1010 00111'\n",
        "print(decoding(received_sig1, poly))\n",
        "\n",
        "org_sig2 = '1100'\n",
        "poly = '100101'\n",
        "print(encoding(org_sig2, poly))\n",
        "received_sig2 = '1010 01111'\n",
        "print(decoding(received_sig2, poly))\n"
      ],
      "metadata": {
        "colab": {
          "base_uri": "https://localhost:8080/"
        },
        "id": "Km363nHKuNi0",
        "outputId": "90c91641-2ffa-4f7a-abe3-8b30932b326d"
      },
      "execution_count": 4,
      "outputs": [
        {
          "output_type": "stream",
          "name": "stdout",
          "text": [
            "101000111\n",
            "No error\n",
            "110011001\n",
            "Error\n"
          ]
        }
      ]
    },
    {
      "cell_type": "code",
      "source": [
        "#Week2_CE305_Question2_19702_Kritika_Regmi\n",
        "#Hamming_code\n",
        "\n",
        "def HamEncoding(msg):\n",
        "    n = len(msg)\n",
        "    k = 0\n",
        "    while 2**k < n + k + 1:\n",
        "        k += 1\n",
        "\n",
        "    encoded_msg = ['0'] * (n + k)\n",
        "\n",
        "    j = 0\n",
        "    for i in range(1, n + k + 1):\n",
        "        if i == 2**j:\n",
        "            j += 1\n",
        "        else:\n",
        "            encoded_msg[i - 1] = msg[i - j - 1]\n",
        "\n",
        "    for i in range(k):\n",
        "        parity_bit_index = 2**i - 1\n",
        "        count = 0\n",
        "        for j in range(parity_bit_index, n + k, 2**(i + 1)):\n",
        "            for l in range(j, min(j + 2**i, n + k)):\n",
        "                count ^= int(encoded_msg[l])\n",
        "        encoded_msg[parity_bit_index] = str(count)\n",
        "\n",
        "    return ''.join(encoded_msg)\n",
        "\n",
        "def HamDecoding(rcv, k):\n",
        "    n = len(rcv)\n",
        "    decoded_msg = list(rcv)\n",
        "\n",
        "    errors = []\n",
        "    for i in range(k):\n",
        "        parity_bit_index = 2**i - 1\n",
        "        count = 0\n",
        "        for j in range(parity_bit_index, n, 2**(i + 1)):\n",
        "            for l in range(j, min(j + 2**i, n)):\n",
        "                count ^= int(decoded_msg[l])\n",
        "        if count != 0:\n",
        "            errors.append(parity_bit_index + 1)\n",
        "\n",
        "    errors.reverse()\n",
        "    error_positions_str = ', '.join(map(str, errors))\n",
        "\n",
        "    if not errors:\n",
        "        return 'No error'\n",
        "    else:\n",
        "        for pos in errors:\n",
        "            decoded_msg[pos - 1] = str(1 - int(decoded_msg[pos - 1]))\n",
        "        corrected_msg = ''.join(decoded_msg)\n",
        "        return f'Error at Position(s) {error_positions_str}, and correct data: {corrected_msg}'\n",
        "\n",
        "# Test cases\n",
        "org_sig1 = '1101'\n",
        "encoded_sig1 = HamEncoding(org_sig1)\n",
        "print(encoded_sig1)\n",
        "\n",
        "received_sig1 = '1010101'\n",
        "k = 3\n",
        "print(HamDecoding(received_sig1, k))\n",
        "\n",
        "org_sig2 = '1001011'\n",
        "encoded_sig2 = HamEncoding(org_sig2)\n",
        "print(encoded_sig2)\n",
        "\n",
        "received_sig2 = '1010001'\n",
        "k = 3\n",
        "print(HamDecoding(received_sig2, k))\n"
      ],
      "metadata": {
        "colab": {
          "base_uri": "https://localhost:8080/"
        },
        "id": "dWMvKVxCyAKW",
        "outputId": "4e68dc3e-bbdb-4b56-96e6-a6f8e56adc0f"
      },
      "execution_count": 5,
      "outputs": [
        {
          "output_type": "stream",
          "name": "stdout",
          "text": [
            "1010101\n",
            "No error\n",
            "10110010011\n",
            "Error at Position(s) 4, 1, and correct data: 0011001\n"
          ]
        }
      ]
    }
  ]
}